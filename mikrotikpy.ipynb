{
 "cells": [
  {
   "cell_type": "markdown",
   "metadata": {},
   "source": [
    "# Using SSH and Python to execute commands in MikroTik RouterOS "
   ]
  },
  {
   "cell_type": "markdown",
   "metadata": {},
   "source": [
    "1. Create an user acount in RouterOS with 'SSH_admin' username (or any other name).\n",
    "2. Create a key using ssh-keygen. In a terminal run \n",
    "     ```\n",
    "     ssh-keygen -t rsa\n",
    "     ```\n",
    "     **Note**: Make sure to leave the passphrase blank\n",
    "2. Upload the generated key (public) to the target device\n",
    "3. Now from either Winbox or terminal mode you need to import the key.\n",
    "\n",
    "Ref: https://wiki.mikrotik.com/wiki/Use_SSH_to_execute_commands_(public/private_key_login)"
   ]
  },
  {
   "cell_type": "code",
   "execution_count": 7,
   "metadata": {},
   "outputs": [],
   "source": [
    "from IPython.display import clear_output\n",
    "import time\n",
    "import paramiko"
   ]
  },
  {
   "cell_type": "code",
   "execution_count": 8,
   "metadata": {},
   "outputs": [],
   "source": [
    "ssh = paramiko.SSHClient()\n",
    "\n",
    "ssh.set_missing_host_key_policy(paramiko.AutoAddPolicy())"
   ]
  },
  {
   "cell_type": "code",
   "execution_count": 9,
   "metadata": {},
   "outputs": [],
   "source": [
    "ssh.connect('192.168.1.1', \n",
    "            username='SSH_admin', \n",
    "            password='', \n",
    "            key_filename='C:/Users/mamin/.ssh/id_rsa', \n",
    "            port=11994)"
   ]
  },
  {
   "cell_type": "code",
   "execution_count": 10,
   "metadata": {},
   "outputs": [],
   "source": [
    "stdin, stdout, stderr = ssh.exec_command('interface monitor-traffic ether1')"
   ]
  },
  {
   "cell_type": "code",
   "execution_count": null,
   "metadata": {},
   "outputs": [
    {
     "name": "stdout",
     "output_type": "stream",
     "text": [
      "                         name:    ether1\n",
      "        rx-packets-per-second:         4\n",
      "           rx-bits-per-second:   2.0kbps\n",
      "     fp-rx-packets-per-second:         4\n",
      "        fp-rx-bits-per-second:   2.0kbps\n",
      "          rx-drops-per-second:         0\n",
      "         rx-errors-per-second:         0\n",
      "        tx-packets-per-second:         4\n",
      "           tx-bits-per-second:  12.6kbps\n",
      "     fp-tx-packets-per-second:         4\n",
      "        fp-tx-bits-per-second:  12.6kbps\n",
      "          tx-drops-per-second:         0\n",
      "    tx-queue-drops-per-second:         0\n",
      "         tx-errors-per-second:         0\n"
     ]
    }
   ],
   "source": [
    "while True:\n",
    "    string = stdout.readline()\n",
    "    string = string.replace('\\r\\n', '')\n",
    "    print(string)\n",
    "    if string == '' :\n",
    "        clear_output(wait=True)\n",
    "        time.sleep(0.1)\n",
    "#         break\n",
    "#         stdin.write('q')\n",
    "#         stdout.close()\n",
    "#         stdin.close()\n",
    "#         stderr.close()\n",
    "#         break"
   ]
  }
 ],
 "metadata": {
  "kernelspec": {
   "display_name": "Python 3",
   "language": "python",
   "name": "python3"
  },
  "language_info": {
   "codemirror_mode": {
    "name": "ipython",
    "version": 3
   },
   "file_extension": ".py",
   "mimetype": "text/x-python",
   "name": "python",
   "nbconvert_exporter": "python",
   "pygments_lexer": "ipython3",
   "version": "3.8.3"
  }
 },
 "nbformat": 4,
 "nbformat_minor": 4
}
